{
  "nbformat": 4,
  "nbformat_minor": 0,
  "metadata": {
    "colab": {
      "name": "concate-1-1-1.ipynb",
      "provenance": [],
      "collapsed_sections": [],
      "mount_file_id": "1pWmavVZZFLXWxH58uy3s0MM4Blcyewpo",
      "authorship_tag": "ABX9TyP3//zklQ0aolz5xymolfHT",
      "include_colab_link": true
    },
    "kernelspec": {
      "name": "python3",
      "display_name": "Python 3"
    },
    "accelerator": "GPU"
  },
  "cells": [
    {
      "cell_type": "markdown",
      "metadata": {
        "id": "view-in-github",
        "colab_type": "text"
      },
      "source": [
        "<a href=\"https://colab.research.google.com/github/mrdhridho/Magnimind-Academy/blob/master/concate_1_1_1.ipynb\" target=\"_parent\"><img src=\"https://colab.research.google.com/assets/colab-badge.svg\" alt=\"Open In Colab\"/></a>"
      ]
    },
    {
      "cell_type": "code",
      "metadata": {
        "id": "6795f2Sj8Uua",
        "colab_type": "code",
        "colab": {}
      },
      "source": [
        "import pandas as pd"
      ],
      "execution_count": 3,
      "outputs": []
    },
    {
      "cell_type": "code",
      "metadata": {
        "id": "f424w3eubWOc",
        "colab_type": "code",
        "colab": {
          "base_uri": "https://localhost:8080/",
          "height": 33
        },
        "outputId": "3a46862b-72d4-4c3c-d148-f313e25ac7cc"
      },
      "source": [
        "df_train = pd.read_excel(\"/content/drive/My Drive/junktoclear_data_training.xls\")\n",
        "train = df_train[df_train.quoted_amount > 0]\n",
        "df_train.shape"
      ],
      "execution_count": 4,
      "outputs": [
        {
          "output_type": "execute_result",
          "data": {
            "text/plain": [
              "(9887, 24)"
            ]
          },
          "metadata": {
            "tags": []
          },
          "execution_count": 4
        }
      ]
    },
    {
      "cell_type": "code",
      "metadata": {
        "id": "5BUvItfHbolD",
        "colab_type": "code",
        "colab": {
          "base_uri": "https://localhost:8080/",
          "height": 33
        },
        "outputId": "33bd4c75-cfcc-4399-8086-3e7e5b8d9910"
      },
      "source": [
        "test = pd.read_excel(\"/content/drive/My Drive/junktoclear_data_testing.xls\")\n",
        "test.shape"
      ],
      "execution_count": 5,
      "outputs": [
        {
          "output_type": "execute_result",
          "data": {
            "text/plain": [
              "(1055, 24)"
            ]
          },
          "metadata": {
            "tags": []
          },
          "execution_count": 5
        }
      ]
    },
    {
      "cell_type": "code",
      "metadata": {
        "id": "ttBG6LUvdNHC",
        "colab_type": "code",
        "colab": {
          "base_uri": "https://localhost:8080/",
          "height": 33
        },
        "outputId": "338cc3c5-b47b-49ee-996d-7e2e6e44c676"
      },
      "source": [
        "test.shape"
      ],
      "execution_count": 6,
      "outputs": [
        {
          "output_type": "execute_result",
          "data": {
            "text/plain": [
              "(1055, 24)"
            ]
          },
          "metadata": {
            "tags": []
          },
          "execution_count": 6
        }
      ]
    },
    {
      "cell_type": "code",
      "metadata": {
        "id": "s4aEVtlJp60O",
        "colab_type": "code",
        "colab": {
          "base_uri": "https://localhost:8080/",
          "height": 601
        },
        "outputId": "7e9837ef-6213-4481-c35c-85d0f52ddd91"
      },
      "source": [
        "test.head()"
      ],
      "execution_count": 7,
      "outputs": [
        {
          "output_type": "execute_result",
          "data": {
            "text/html": [
              "<div>\n",
              "<style scoped>\n",
              "    .dataframe tbody tr th:only-of-type {\n",
              "        vertical-align: middle;\n",
              "    }\n",
              "\n",
              "    .dataframe tbody tr th {\n",
              "        vertical-align: top;\n",
              "    }\n",
              "\n",
              "    .dataframe thead th {\n",
              "        text-align: right;\n",
              "    }\n",
              "</style>\n",
              "<table border=\"1\" class=\"dataframe\">\n",
              "  <thead>\n",
              "    <tr style=\"text-align: right;\">\n",
              "      <th></th>\n",
              "      <th>Unnamed: 0</th>\n",
              "      <th>enquiry_id</th>\n",
              "      <th>enquiry_date</th>\n",
              "      <th>enquiry_mode</th>\n",
              "      <th>enquiry_type</th>\n",
              "      <th>preferred_date</th>\n",
              "      <th>preferred_time</th>\n",
              "      <th>preferred_datetime</th>\n",
              "      <th>preferred_date_range</th>\n",
              "      <th>preferred_time_range</th>\n",
              "      <th>removal_item_from</th>\n",
              "      <th>has_lift</th>\n",
              "      <th>lift_level</th>\n",
              "      <th>unit_level</th>\n",
              "      <th>is_mounted</th>\n",
              "      <th>is_bed_bugs</th>\n",
              "      <th>enquiry_status</th>\n",
              "      <th>enquiry_details</th>\n",
              "      <th>quoted_amount</th>\n",
              "      <th>remark</th>\n",
              "      <th>is_viewed</th>\n",
              "      <th>customer_postal_code</th>\n",
              "      <th>delete_status</th>\n",
              "      <th>deleted_on</th>\n",
              "    </tr>\n",
              "  </thead>\n",
              "  <tbody>\n",
              "    <tr>\n",
              "      <th>0</th>\n",
              "      <td>6</td>\n",
              "      <td>27763</td>\n",
              "      <td>2018-08-02</td>\n",
              "      <td>online</td>\n",
              "      <td>residential</td>\n",
              "      <td>2018-08-03</td>\n",
              "      <td>14:00:00</td>\n",
              "      <td>2018-08-03 14:00:00</td>\n",
              "      <td>NaN</td>\n",
              "      <td>NaN</td>\n",
              "      <td>Condo</td>\n",
              "      <td>Yes</td>\n",
              "      <td>NaN</td>\n",
              "      <td>NaN</td>\n",
              "      <td>no</td>\n",
              "      <td>no</td>\n",
              "      <td>job completed</td>\n",
              "      <td>Disposal Item\\r\\n\\r\\n1 x Single  divan base he...</td>\n",
              "      <td>110.0</td>\n",
              "      <td>2/8 - called 4.55pm customer is no answering p...</td>\n",
              "      <td>1</td>\n",
              "      <td>NaN</td>\n",
              "      <td>0</td>\n",
              "      <td>0000-00-00 00:00:00</td>\n",
              "    </tr>\n",
              "    <tr>\n",
              "      <th>1</th>\n",
              "      <td>13</td>\n",
              "      <td>27770</td>\n",
              "      <td>2018-08-03</td>\n",
              "      <td>call in</td>\n",
              "      <td>residential</td>\n",
              "      <td>2018-08-03</td>\n",
              "      <td>09:00:00</td>\n",
              "      <td>2018-08-03 09:00:00</td>\n",
              "      <td>NaN</td>\n",
              "      <td>NaN</td>\n",
              "      <td>Condo</td>\n",
              "      <td>Yes</td>\n",
              "      <td>NaN</td>\n",
              "      <td>NaN</td>\n",
              "      <td>no</td>\n",
              "      <td>no</td>\n",
              "      <td>decline</td>\n",
              "      <td>Disposal Item\\r\\n\\r\\nwhole house furniture nee...</td>\n",
              "      <td>1500.0</td>\n",
              "      <td>3/8 - customer will revert</td>\n",
              "      <td>1</td>\n",
              "      <td>228973</td>\n",
              "      <td>0</td>\n",
              "      <td>0000-00-00 00:00:00</td>\n",
              "    </tr>\n",
              "    <tr>\n",
              "      <th>2</th>\n",
              "      <td>21</td>\n",
              "      <td>27778</td>\n",
              "      <td>2018-08-03</td>\n",
              "      <td>call in</td>\n",
              "      <td>commercial</td>\n",
              "      <td>2018-08-07</td>\n",
              "      <td>12:00:00</td>\n",
              "      <td>2018-08-07 12:00:00</td>\n",
              "      <td>NaN</td>\n",
              "      <td>NaN</td>\n",
              "      <td>Commercial</td>\n",
              "      <td>Yes</td>\n",
              "      <td>NaN</td>\n",
              "      <td>NaN</td>\n",
              "      <td>no</td>\n",
              "      <td>no</td>\n",
              "      <td>decline</td>\n",
              "      <td>Relocation of 2 x Chairs from Lucky Plaza to N...</td>\n",
              "      <td>80.0</td>\n",
              "      <td>3rd Aug - Emailed quote. Enquiry from Vincent ...</td>\n",
              "      <td>1</td>\n",
              "      <td>608532</td>\n",
              "      <td>0</td>\n",
              "      <td>0000-00-00 00:00:00</td>\n",
              "    </tr>\n",
              "    <tr>\n",
              "      <th>3</th>\n",
              "      <td>27</td>\n",
              "      <td>27784</td>\n",
              "      <td>2018-08-03</td>\n",
              "      <td>online</td>\n",
              "      <td>commercial</td>\n",
              "      <td>2018-08-06</td>\n",
              "      <td>14:00:00</td>\n",
              "      <td>2018-08-06 14:00:00</td>\n",
              "      <td>NaN</td>\n",
              "      <td>NaN</td>\n",
              "      <td>Commercial</td>\n",
              "      <td>Yes</td>\n",
              "      <td>NaN</td>\n",
              "      <td>NaN</td>\n",
              "      <td>no</td>\n",
              "      <td>no</td>\n",
              "      <td>job completed</td>\n",
              "      <td>Disposal Item\\r\\n\\r\\nabout 15boxes commercial ...</td>\n",
              "      <td>220.0</td>\n",
              "      <td>4/8 - send by whatapps. Quoted $230, \\r\\nbest ...</td>\n",
              "      <td>1</td>\n",
              "      <td>409030</td>\n",
              "      <td>0</td>\n",
              "      <td>0000-00-00 00:00:00</td>\n",
              "    </tr>\n",
              "    <tr>\n",
              "      <th>4</th>\n",
              "      <td>33</td>\n",
              "      <td>27791</td>\n",
              "      <td>2018-08-04</td>\n",
              "      <td>online</td>\n",
              "      <td>residential</td>\n",
              "      <td>2018-08-10</td>\n",
              "      <td>10:00:00</td>\n",
              "      <td>2018-08-10 10:00:00</td>\n",
              "      <td>NaN</td>\n",
              "      <td>NaN</td>\n",
              "      <td>Condo</td>\n",
              "      <td>Yes</td>\n",
              "      <td>NaN</td>\n",
              "      <td>NaN</td>\n",
              "      <td>no</td>\n",
              "      <td>no</td>\n",
              "      <td>job completed</td>\n",
              "      <td>Disposal Item\\r\\n\\r\\n2 x 3 seater sofa</td>\n",
              "      <td>300.0</td>\n",
              "      <td>4/8 -  job confirmed for 10/8 - 10am to 11am</td>\n",
              "      <td>1</td>\n",
              "      <td>098329</td>\n",
              "      <td>0</td>\n",
              "      <td>0000-00-00 00:00:00</td>\n",
              "    </tr>\n",
              "  </tbody>\n",
              "</table>\n",
              "</div>"
            ],
            "text/plain": [
              "   Unnamed: 0  enquiry_id  ... delete_status           deleted_on\n",
              "0           6       27763  ...             0  0000-00-00 00:00:00\n",
              "1          13       27770  ...             0  0000-00-00 00:00:00\n",
              "2          21       27778  ...             0  0000-00-00 00:00:00\n",
              "3          27       27784  ...             0  0000-00-00 00:00:00\n",
              "4          33       27791  ...             0  0000-00-00 00:00:00\n",
              "\n",
              "[5 rows x 24 columns]"
            ]
          },
          "metadata": {
            "tags": []
          },
          "execution_count": 7
        }
      ]
    },
    {
      "cell_type": "code",
      "metadata": {
        "id": "ZI6pttxNgDvC",
        "colab_type": "code",
        "colab": {
          "base_uri": "https://localhost:8080/",
          "height": 50
        },
        "outputId": "c80ed453-bb8b-4fe3-dad5-acba70e77909"
      },
      "source": [
        "def handle_missing(dataset):\n",
        "    dataset.enquiry_type.fillna(value=\"\", inplace=True)\n",
        "    dataset.removal_item_from.fillna(value=\"\", inplace=True)\n",
        "    dataset.has_lift.fillna(value=\"\", inplace=True)\n",
        "    dataset.is_mounted.fillna(value=\"\", inplace=True)\n",
        "    dataset.is_bed_bugs.fillna(value=\"\", inplace=True)\n",
        "    \n",
        "    return (dataset)\n",
        "\n",
        "#train = handle_missing(train)\n",
        "#test = handle_missing(test)\n",
        "\n",
        "# filling missing values of categorical variables with mode\n",
        "\n",
        "train['enquiry_type'].fillna(train['enquiry_type'].mode()[0], inplace=True)\n",
        "\n",
        "train['removal_item_from'].fillna(train['removal_item_from'].mode()[0], inplace=True)\n",
        "\n",
        "train['has_lift'].fillna(train['has_lift'].mode()[0], inplace=True)\n",
        "\n",
        "train['is_mounted'].fillna(train['is_mounted'].mode()[0], inplace=True)\n",
        "\n",
        "train['is_bed_bugs'].fillna(train['is_bed_bugs'].mode()[0], inplace=True)\n",
        "\n",
        "test['enquiry_type'].fillna(test['enquiry_type'].mode()[0], inplace=True)\n",
        "\n",
        "test['removal_item_from'].fillna(test['removal_item_from'].mode()[0], inplace=True)\n",
        "\n",
        "test['has_lift'].fillna(test['has_lift'].mode()[0], inplace=True)\n",
        "\n",
        "test['is_mounted'].fillna(test['is_mounted'].mode()[0], inplace=True)\n",
        "\n",
        "test['is_bed_bugs'].fillna(test['is_bed_bugs'].mode()[0], inplace=True)\n",
        "\n",
        "print(train.shape)\n",
        "print(test.shape)"
      ],
      "execution_count": 8,
      "outputs": [
        {
          "output_type": "stream",
          "text": [
            "(9887, 24)\n",
            "(1055, 24)\n"
          ],
          "name": "stdout"
        }
      ]
    },
    {
      "cell_type": "code",
      "metadata": {
        "id": "RNKpsguggMJz",
        "colab_type": "code",
        "colab": {
          "base_uri": "https://localhost:8080/",
          "height": 283
        },
        "outputId": "abdf8a9e-ef79-4c2e-b39c-faf55d547ee4"
      },
      "source": [
        "import numpy as np\n",
        "from sklearn.preprocessing import LabelEncoder\n",
        "le = LabelEncoder()\n",
        "\n",
        "le.fit(np.hstack([train.enquiry_type, test.enquiry_type]))\n",
        "train.enquiry_type = le.transform(train.enquiry_type)\n",
        "test.enquiry_type = le.transform(test.enquiry_type)\n",
        "\n",
        "le.fit(np.hstack([train.removal_item_from, test.removal_item_from]))\n",
        "train.removal_item_from = le.transform(train.removal_item_from)\n",
        "test.removal_item_from = le.transform(test.removal_item_from)\n",
        "\n",
        "le.fit(np.hstack([train.has_lift, test.has_lift]))\n",
        "train.has_lift = le.transform(train.has_lift)\n",
        "test.has_lift = le.transform(test.has_lift)\n",
        "\n",
        "le.fit(np.hstack([train.is_mounted, test.is_mounted]))\n",
        "train.is_mounted = le.transform(train.is_mounted)\n",
        "test.is_mounted = le.transform(test.is_mounted)\n",
        "\n",
        "le.fit(np.hstack([train.is_bed_bugs, test.is_bed_bugs]))\n",
        "train.is_bed_bugs = le.transform(train.is_bed_bugs)\n",
        "test.is_bed_bugs = le.transform(test.is_bed_bugs)\n",
        "del le\n",
        "\n",
        "train.head(3)"
      ],
      "execution_count": 9,
      "outputs": [
        {
          "output_type": "execute_result",
          "data": {
            "text/html": [
              "<div>\n",
              "<style scoped>\n",
              "    .dataframe tbody tr th:only-of-type {\n",
              "        vertical-align: middle;\n",
              "    }\n",
              "\n",
              "    .dataframe tbody tr th {\n",
              "        vertical-align: top;\n",
              "    }\n",
              "\n",
              "    .dataframe thead th {\n",
              "        text-align: right;\n",
              "    }\n",
              "</style>\n",
              "<table border=\"1\" class=\"dataframe\">\n",
              "  <thead>\n",
              "    <tr style=\"text-align: right;\">\n",
              "      <th></th>\n",
              "      <th>Unnamed: 0</th>\n",
              "      <th>enquiry_id</th>\n",
              "      <th>enquiry_date</th>\n",
              "      <th>enquiry_mode</th>\n",
              "      <th>enquiry_type</th>\n",
              "      <th>preferred_date</th>\n",
              "      <th>preferred_time</th>\n",
              "      <th>preferred_datetime</th>\n",
              "      <th>preferred_date_range</th>\n",
              "      <th>preferred_time_range</th>\n",
              "      <th>removal_item_from</th>\n",
              "      <th>has_lift</th>\n",
              "      <th>lift_level</th>\n",
              "      <th>unit_level</th>\n",
              "      <th>is_mounted</th>\n",
              "      <th>is_bed_bugs</th>\n",
              "      <th>enquiry_status</th>\n",
              "      <th>enquiry_details</th>\n",
              "      <th>quoted_amount</th>\n",
              "      <th>remark</th>\n",
              "      <th>is_viewed</th>\n",
              "      <th>customer_postal_code</th>\n",
              "      <th>delete_status</th>\n",
              "      <th>deleted_on</th>\n",
              "    </tr>\n",
              "  </thead>\n",
              "  <tbody>\n",
              "    <tr>\n",
              "      <th>0</th>\n",
              "      <td>0</td>\n",
              "      <td>27757</td>\n",
              "      <td>2018-08-02</td>\n",
              "      <td>online</td>\n",
              "      <td>1</td>\n",
              "      <td>2018-08-02</td>\n",
              "      <td>09:00:00</td>\n",
              "      <td>2018-08-02 09:00:00</td>\n",
              "      <td>NaN</td>\n",
              "      <td>NaN</td>\n",
              "      <td>1</td>\n",
              "      <td>1</td>\n",
              "      <td>NaN</td>\n",
              "      <td>NaN</td>\n",
              "      <td>0</td>\n",
              "      <td>0</td>\n",
              "      <td>decline</td>\n",
              "      <td>Disposal Item\\r\\n\\r\\n1 x Massage chair\\r\\n1 x ...</td>\n",
              "      <td>190.0</td>\n",
              "      <td>2/8 - customer will revert</td>\n",
              "      <td>1</td>\n",
              "      <td>NaN</td>\n",
              "      <td>0</td>\n",
              "      <td>0000-00-00 00:00:00</td>\n",
              "    </tr>\n",
              "    <tr>\n",
              "      <th>1</th>\n",
              "      <td>1</td>\n",
              "      <td>27758</td>\n",
              "      <td>2018-08-02</td>\n",
              "      <td>call in</td>\n",
              "      <td>1</td>\n",
              "      <td>2018-08-06</td>\n",
              "      <td>14:00:00</td>\n",
              "      <td>2018-08-06 14:00:00</td>\n",
              "      <td>NaN</td>\n",
              "      <td>NaN</td>\n",
              "      <td>3</td>\n",
              "      <td>1</td>\n",
              "      <td>NaN</td>\n",
              "      <td>NaN</td>\n",
              "      <td>0</td>\n",
              "      <td>0</td>\n",
              "      <td>decline</td>\n",
              "      <td>Removal of 1 x 3 Seater leather sofa.\\r\\n\\r\\n*...</td>\n",
              "      <td>80.0</td>\n",
              "      <td>2nd Aug - Customer to revert.</td>\n",
              "      <td>1</td>\n",
              "      <td>276636</td>\n",
              "      <td>0</td>\n",
              "      <td>0000-00-00 00:00:00</td>\n",
              "    </tr>\n",
              "    <tr>\n",
              "      <th>2</th>\n",
              "      <td>2</td>\n",
              "      <td>27759</td>\n",
              "      <td>2018-08-02</td>\n",
              "      <td>online</td>\n",
              "      <td>1</td>\n",
              "      <td>2018-08-02</td>\n",
              "      <td>09:00:00</td>\n",
              "      <td>2018-08-02 09:00:00</td>\n",
              "      <td>On a Specific Date</td>\n",
              "      <td>Evening till 6:30</td>\n",
              "      <td>1</td>\n",
              "      <td>1</td>\n",
              "      <td>NaN</td>\n",
              "      <td>NaN</td>\n",
              "      <td>0</td>\n",
              "      <td>0</td>\n",
              "      <td>decline</td>\n",
              "      <td>I am unable to take photos of the items due to...</td>\n",
              "      <td>450.0</td>\n",
              "      <td>2/8 - customer will revert</td>\n",
              "      <td>1</td>\n",
              "      <td>425562</td>\n",
              "      <td>0</td>\n",
              "      <td>0000-00-00 00:00:00</td>\n",
              "    </tr>\n",
              "  </tbody>\n",
              "</table>\n",
              "</div>"
            ],
            "text/plain": [
              "   Unnamed: 0  enquiry_id  ... delete_status           deleted_on\n",
              "0           0       27757  ...             0  0000-00-00 00:00:00\n",
              "1           1       27758  ...             0  0000-00-00 00:00:00\n",
              "2           2       27759  ...             0  0000-00-00 00:00:00\n",
              "\n",
              "[3 rows x 24 columns]"
            ]
          },
          "metadata": {
            "tags": []
          },
          "execution_count": 9
        }
      ]
    },
    {
      "cell_type": "code",
      "metadata": {
        "id": "Ge61Aj-CgzV1",
        "colab_type": "code",
        "colab": {
          "base_uri": "https://localhost:8080/",
          "height": 332
        },
        "outputId": "560b20d8-baac-4bbc-ec62-c7dd0be2958f"
      },
      "source": [
        "print(\"Text to seq process...\")\n",
        "from keras.preprocessing.text import Tokenizer\n",
        "raw_text = np.hstack([train.enquiry_details.str.lower()])\n",
        "\n",
        "print(\"   Fitting tokenizer...\")\n",
        "tok_raw = Tokenizer()\n",
        "tok_raw.fit_on_texts(raw_text)\n",
        "print(\"   Transforming text to seq...\")\n",
        "\n",
        "train[\"seq_enquiry_details\"] = tok_raw.texts_to_sequences(train.enquiry_details.str.lower())\n",
        "test[\"seq_enquiry_details\"] = tok_raw.texts_to_sequences(test.enquiry_details.str.lower())\n",
        "train.head(3)"
      ],
      "execution_count": 10,
      "outputs": [
        {
          "output_type": "stream",
          "text": [
            "Text to seq process...\n",
            "   Fitting tokenizer...\n",
            "   Transforming text to seq...\n"
          ],
          "name": "stdout"
        },
        {
          "output_type": "execute_result",
          "data": {
            "text/html": [
              "<div>\n",
              "<style scoped>\n",
              "    .dataframe tbody tr th:only-of-type {\n",
              "        vertical-align: middle;\n",
              "    }\n",
              "\n",
              "    .dataframe tbody tr th {\n",
              "        vertical-align: top;\n",
              "    }\n",
              "\n",
              "    .dataframe thead th {\n",
              "        text-align: right;\n",
              "    }\n",
              "</style>\n",
              "<table border=\"1\" class=\"dataframe\">\n",
              "  <thead>\n",
              "    <tr style=\"text-align: right;\">\n",
              "      <th></th>\n",
              "      <th>Unnamed: 0</th>\n",
              "      <th>enquiry_id</th>\n",
              "      <th>enquiry_date</th>\n",
              "      <th>enquiry_mode</th>\n",
              "      <th>enquiry_type</th>\n",
              "      <th>preferred_date</th>\n",
              "      <th>preferred_time</th>\n",
              "      <th>preferred_datetime</th>\n",
              "      <th>preferred_date_range</th>\n",
              "      <th>preferred_time_range</th>\n",
              "      <th>removal_item_from</th>\n",
              "      <th>has_lift</th>\n",
              "      <th>lift_level</th>\n",
              "      <th>unit_level</th>\n",
              "      <th>is_mounted</th>\n",
              "      <th>is_bed_bugs</th>\n",
              "      <th>enquiry_status</th>\n",
              "      <th>enquiry_details</th>\n",
              "      <th>quoted_amount</th>\n",
              "      <th>remark</th>\n",
              "      <th>is_viewed</th>\n",
              "      <th>customer_postal_code</th>\n",
              "      <th>delete_status</th>\n",
              "      <th>deleted_on</th>\n",
              "      <th>seq_enquiry_details</th>\n",
              "    </tr>\n",
              "  </thead>\n",
              "  <tbody>\n",
              "    <tr>\n",
              "      <th>0</th>\n",
              "      <td>0</td>\n",
              "      <td>27757</td>\n",
              "      <td>2018-08-02</td>\n",
              "      <td>online</td>\n",
              "      <td>1</td>\n",
              "      <td>2018-08-02</td>\n",
              "      <td>09:00:00</td>\n",
              "      <td>2018-08-02 09:00:00</td>\n",
              "      <td>NaN</td>\n",
              "      <td>NaN</td>\n",
              "      <td>1</td>\n",
              "      <td>1</td>\n",
              "      <td>NaN</td>\n",
              "      <td>NaN</td>\n",
              "      <td>0</td>\n",
              "      <td>0</td>\n",
              "      <td>decline</td>\n",
              "      <td>Disposal Item\\r\\n\\r\\n1 x Massage chair\\r\\n1 x ...</td>\n",
              "      <td>190.0</td>\n",
              "      <td>2/8 - customer will revert</td>\n",
              "      <td>1</td>\n",
              "      <td>NaN</td>\n",
              "      <td>0</td>\n",
              "      <td>0000-00-00 00:00:00</td>\n",
              "      <td>[4, 9, 1, 3, 2, 465, 75, 3, 2, 66]</td>\n",
              "    </tr>\n",
              "    <tr>\n",
              "      <th>1</th>\n",
              "      <td>1</td>\n",
              "      <td>27758</td>\n",
              "      <td>2018-08-02</td>\n",
              "      <td>call in</td>\n",
              "      <td>1</td>\n",
              "      <td>2018-08-06</td>\n",
              "      <td>14:00:00</td>\n",
              "      <td>2018-08-06 14:00:00</td>\n",
              "      <td>NaN</td>\n",
              "      <td>NaN</td>\n",
              "      <td>3</td>\n",
              "      <td>1</td>\n",
              "      <td>NaN</td>\n",
              "      <td>NaN</td>\n",
              "      <td>0</td>\n",
              "      <td>0</td>\n",
              "      <td>decline</td>\n",
              "      <td>Removal of 1 x 3 Seater leather sofa.\\r\\n\\r\\n*...</td>\n",
              "      <td>80.0</td>\n",
              "      <td>2nd Aug - Customer to revert.</td>\n",
              "      <td>1</td>\n",
              "      <td>276636</td>\n",
              "      <td>0</td>\n",
              "      <td>0000-00-00 00:00:00</td>\n",
              "      <td>[6, 5, 3, 2, 18, 23, 312, 35, 1, 1, 11, 322, 1...</td>\n",
              "    </tr>\n",
              "    <tr>\n",
              "      <th>2</th>\n",
              "      <td>2</td>\n",
              "      <td>27759</td>\n",
              "      <td>2018-08-02</td>\n",
              "      <td>online</td>\n",
              "      <td>1</td>\n",
              "      <td>2018-08-02</td>\n",
              "      <td>09:00:00</td>\n",
              "      <td>2018-08-02 09:00:00</td>\n",
              "      <td>On a Specific Date</td>\n",
              "      <td>Evening till 6:30</td>\n",
              "      <td>1</td>\n",
              "      <td>1</td>\n",
              "      <td>NaN</td>\n",
              "      <td>NaN</td>\n",
              "      <td>0</td>\n",
              "      <td>0</td>\n",
              "      <td>decline</td>\n",
              "      <td>I am unable to take photos of the items due to...</td>\n",
              "      <td>450.0</td>\n",
              "      <td>2/8 - customer will revert</td>\n",
              "      <td>1</td>\n",
              "      <td>425562</td>\n",
              "      <td>0</td>\n",
              "      <td>0000-00-00 00:00:00</td>\n",
              "      <td>[126, 425, 1511, 10, 518, 97, 5, 20, 39, 1245,...</td>\n",
              "    </tr>\n",
              "  </tbody>\n",
              "</table>\n",
              "</div>"
            ],
            "text/plain": [
              "   Unnamed: 0  ...                                seq_enquiry_details\n",
              "0           0  ...                 [4, 9, 1, 3, 2, 465, 75, 3, 2, 66]\n",
              "1           1  ...  [6, 5, 3, 2, 18, 23, 312, 35, 1, 1, 11, 322, 1...\n",
              "2           2  ...  [126, 425, 1511, 10, 518, 97, 5, 20, 39, 1245,...\n",
              "\n",
              "[3 rows x 25 columns]"
            ]
          },
          "metadata": {
            "tags": []
          },
          "execution_count": 10
        }
      ]
    },
    {
      "cell_type": "code",
      "metadata": {
        "id": "vqkXSxc6j899",
        "colab_type": "code",
        "colab": {
          "base_uri": "https://localhost:8080/",
          "height": 33
        },
        "outputId": "f3a7ec73-f49d-40a4-a1ee-18c37ac2ad87"
      },
      "source": [
        "max_seq_enquiry_details = np.max([np.max(train.seq_enquiry_details.apply(lambda x: len(x)))\n",
        "                                   , np.max(test.seq_enquiry_details.apply(lambda x: len(x)))])\n",
        "print(\"max enquiry_details \"+str(max_seq_enquiry_details))"
      ],
      "execution_count": 11,
      "outputs": [
        {
          "output_type": "stream",
          "text": [
            "max enquiry_details 549\n"
          ],
          "name": "stdout"
        }
      ]
    },
    {
      "cell_type": "code",
      "metadata": {
        "id": "hH5iLsPkkUGN",
        "colab_type": "code",
        "colab": {
          "base_uri": "https://localhost:8080/",
          "height": 281
        },
        "outputId": "3aa870f9-7321-41af-93c9-89bc81505df6"
      },
      "source": [
        "train.seq_enquiry_details.apply(lambda x: len(x)).hist()"
      ],
      "execution_count": 12,
      "outputs": [
        {
          "output_type": "execute_result",
          "data": {
            "text/plain": [
              "<matplotlib.axes._subplots.AxesSubplot at 0x7f8842a300b8>"
            ]
          },
          "metadata": {
            "tags": []
          },
          "execution_count": 12
        },
        {
          "output_type": "display_data",
          "data": {
            "image/png": "[encoded data removed]",
            "text/plain": [
              "<Figure size 432x288 with 1 Axes>"
            ]
          },
          "metadata": {
            "tags": [],
            "needs_background": "light"
          }
        }
      ]
    },
    {
      "cell_type": "code",
      "metadata": {
        "id": "k8Uw3Cf1kY1p",
        "colab_type": "code",
        "colab": {}
      },
      "source": [
        "MAX_enquiry_details = 500\n",
        "MAX_TEXT = len(tok_raw.word_index) + 1\n",
        "MAX_enquiry_type = np.max([train.enquiry_type.max(), test.enquiry_type.max()])+1\n",
        "MAX_removal_item_from = np.max([train.removal_item_from.max(), test.removal_item_from.max()])+1\n",
        "MAX_has_lift = np.max([train.has_lift.max(), test.has_lift.max()])+1\n",
        "MAX_is_mounted = np.max([train.is_mounted.max(), test.is_mounted.max()])+1\n",
        "MAX_is_bed_bugs = np.max([train.is_bed_bugs.max(), test.is_bed_bugs.max()])+1"
      ],
      "execution_count": 13,
      "outputs": []
    },
    {
      "cell_type": "code",
      "metadata": {
        "id": "skiF2TFLkut9",
        "colab_type": "code",
        "colab": {}
      },
      "source": [
        "from sklearn.preprocessing import MinMaxScaler, StandardScaler\n",
        "train[\"target\"] = np.log(train.quoted_amount+1)\n",
        "target_scaler = MinMaxScaler(feature_range=(-1, 1))\n",
        "train[\"target\"] = target_scaler.fit_transform(train.target.values.reshape(-1,1))\n",
        "#pd.DataFrame(train.target).hist()"
      ],
      "execution_count": 14,
      "outputs": []
    },
    {
      "cell_type": "code",
      "metadata": {
        "id": "xu9_fyC7ky2k",
        "colab_type": "code",
        "colab": {
          "base_uri": "https://localhost:8080/",
          "height": 50
        },
        "outputId": "4eaff2ad-ec4d-48b7-d5dc-016a901cd485"
      },
      "source": [
        "from sklearn.model_selection import train_test_split\n",
        "dtrain, dvalid = train_test_split(train, random_state=123, train_size=0.98)\n",
        "print(dtrain.shape)\n",
        "print(dvalid.shape)"
      ],
      "execution_count": 15,
      "outputs": [
        {
          "output_type": "stream",
          "text": [
            "(9689, 26)\n",
            "(198, 26)\n"
          ],
          "name": "stdout"
        }
      ]
    },
    {
      "cell_type": "code",
      "metadata": {
        "id": "1zGnF2XulGc5",
        "colab_type": "code",
        "colab": {}
      },
      "source": [
        "from keras.preprocessing.sequence import pad_sequences\n",
        "def get_keras_data(dataset):\n",
        "    X = {\n",
        "        'enquiry_details': pad_sequences(dataset.seq_enquiry_details, maxlen=MAX_enquiry_details)\n",
        "        ,'enquiry_type': np.array(dataset.enquiry_type)\n",
        "        ,'removal_item_from': np.array(dataset.removal_item_from)\n",
        "        ,'has_lift': np.array(dataset.has_lift)\n",
        "        ,'is_mounted': np.array(dataset.is_mounted)\n",
        "        ,'is_bed_bugs': np.array(dataset.is_bed_bugs)\n",
        "    }\n",
        "    return X\n",
        "\n",
        "X_train = get_keras_data(dtrain)\n",
        "X_valid = get_keras_data(dvalid)\n",
        "X_test = get_keras_data(test)"
      ],
      "execution_count": 16,
      "outputs": []
    },
    {
      "cell_type": "code",
      "metadata": {
        "id": "_lFT9aTIlYY_",
        "colab_type": "code",
        "colab": {
          "base_uri": "https://localhost:8080/",
          "height": 1000
        },
        "outputId": "4994dd23-3276-4e3f-9a16-6c753a7f2fa1"
      },
      "source": [
        "from keras.layers import Input, Dropout, Dense, BatchNormalization, Activation, concatenate, GRU, Embedding, Flatten, BatchNormalization\n",
        "from keras.models import Model\n",
        "from keras.callbacks import ModelCheckpoint, Callback, EarlyStopping\n",
        "from keras import backend as K\n",
        "\n",
        "def get_callbacks(filepath, patience=2):\n",
        "    es = EarlyStopping('val_loss', patience=patience, mode=\"min\")\n",
        "    msave = ModelCheckpoint(filepath, save_best_only=True)\n",
        "    return [es, msave]\n",
        "\n",
        "def rmsle(y, y_pred):\n",
        "    assert len(y) == len(y_pred)\n",
        "    to_sum = [(math.log(y_pred[i] + 1) - math.log(y[i] + 1)) ** 2.0 for i,pred in enumerate(y_pred)]\n",
        "    return (sum(to_sum) * (1.0/len(y))) ** 0.5\n",
        "\n",
        "def rmsle_cust(y_true, y_pred):\n",
        "    first_log = K.log(K.clip(y_pred, K.epsilon(), None) + 1.)\n",
        "    second_log = K.log(K.clip(y_true, K.epsilon(), None) + 1.)\n",
        "    return K.sqrt(K.mean(K.square(first_log - second_log), axis=-1))\n",
        "    \n",
        "def get_model():\n",
        "    #params\n",
        "    dr_r = 0.1\n",
        "    \n",
        "    #Inputs\n",
        "    enquiry_details = Input(shape=[X_train[\"enquiry_details\"].shape[1]], name=\"enquiry_details\")\n",
        "    enquiry_type = Input(shape=[1], name=\"enquiry_type\")\n",
        "    removal_item_from = Input(shape=[1], name=\"removal_item_from\")\n",
        "    has_lift = Input(shape=[1], name=\"has_lift\")\n",
        "    is_mounted = Input(shape=[1], name=\"is_mounted\")\n",
        "    is_bed_bugs = Input(shape=[1], name=\"is_bed_bugs\")\n",
        "    \n",
        "    #Embeddings layers\n",
        "    emb_enquiry_details = Embedding(MAX_TEXT, 500)(enquiry_details)\n",
        "    emb_enquiry_type = Embedding(MAX_enquiry_type, 15)(enquiry_type)\n",
        "    emb_removal_item_from = Embedding(MAX_removal_item_from, 15)(removal_item_from)\n",
        "    emb_has_lift = Embedding(MAX_has_lift, 15)(has_lift)\n",
        "    emb_is_mounted = Embedding(MAX_is_mounted, 15)(is_mounted)\n",
        "    emb_is_bed_bugs = Embedding(MAX_is_bed_bugs, 15)(is_bed_bugs)\n",
        "    \n",
        "    #rnn layer\n",
        "    rnn_layer1 = GRU(32) (emb_enquiry_details)\n",
        "    \n",
        "    #main layer\n",
        "    main_l = concatenate([\n",
        "        Flatten() (emb_enquiry_type)\n",
        "        , Flatten() (emb_removal_item_from)\n",
        "        , Flatten() (emb_has_lift)\n",
        "        , Flatten() (emb_is_mounted)\n",
        "        , Flatten() (emb_is_bed_bugs)\n",
        "        , rnn_layer1   \n",
        "\n",
        "    ])\n",
        "    main_l = Dropout(dr_r) (Dense(256) (main_l))\n",
        "    main_l = Dropout(dr_r) (Dense(128) (main_l))\n",
        "    main_l = Dropout(dr_r) (Dense(64) (main_l))\n",
        "    #main_l = Dense(256)(main_l)\n",
        "    #main_l = Activation('elu')(main_l)\n",
        "\n",
        "    #main_l = Dense(128)(main_l)\n",
        "    #main_l = Activation('elu')(main_l)\n",
        "\n",
        "    #main_l = Dense(64)(main_l)\n",
        "    #main_l = Activation('elu')(main_l)\n",
        "    \n",
        "    #output\n",
        "    output = Dense(1, activation=\"linear\") (main_l)\n",
        "    \n",
        "    #model\n",
        "    model = Model([enquiry_details, enquiry_type, removal_item_from\n",
        "                   , has_lift, is_mounted, is_bed_bugs], output)\n",
        "    model.compile(loss=\"mse\", optimizer=\"adam\", metrics=[\"mae\", rmsle_cust])\n",
        "    \n",
        "    return model\n",
        "\n",
        "    \n",
        "model = get_model()\n",
        "model.summary()"
      ],
      "execution_count": 18,
      "outputs": [
        {
          "output_type": "stream",
          "text": [
            "Model: \"functional_3\"\n",
            "__________________________________________________________________________________________________\n",
            "Layer (type)                    Output Shape         Param #     Connected to                     \n",
            "==================================================================================================\n",
            "enquiry_type (InputLayer)       [(None, 1)]          0                                            \n",
            "__________________________________________________________________________________________________\n",
            "removal_item_from (InputLayer)  [(None, 1)]          0                                            \n",
            "__________________________________________________________________________________________________\n",
            "has_lift (InputLayer)           [(None, 1)]          0                                            \n",
            "__________________________________________________________________________________________________\n",
            "is_mounted (InputLayer)         [(None, 1)]          0                                            \n",
            "__________________________________________________________________________________________________\n",
            "is_bed_bugs (InputLayer)        [(None, 1)]          0                                            \n",
            "__________________________________________________________________________________________________\n",
            "enquiry_details (InputLayer)    [(None, 500)]        0                                            \n",
            "__________________________________________________________________________________________________\n",
            "embedding_7 (Embedding)         (None, 1, 15)        30          enquiry_type[0][0]               \n",
            "__________________________________________________________________________________________________\n",
            "embedding_8 (Embedding)         (None, 1, 15)        90          removal_item_from[0][0]          \n",
            "__________________________________________________________________________________________________\n",
            "embedding_9 (Embedding)         (None, 1, 15)        30          has_lift[0][0]                   \n",
            "__________________________________________________________________________________________________\n",
            "embedding_10 (Embedding)        (None, 1, 15)        30          is_mounted[0][0]                 \n",
            "__________________________________________________________________________________________________\n",
            "embedding_11 (Embedding)        (None, 1, 15)        30          is_bed_bugs[0][0]                \n",
            "__________________________________________________________________________________________________\n",
            "embedding_6 (Embedding)         (None, 500, 500)     5364000     enquiry_details[0][0]            \n",
            "__________________________________________________________________________________________________\n",
            "flatten_5 (Flatten)             (None, 15)           0           embedding_7[0][0]                \n",
            "__________________________________________________________________________________________________\n",
            "flatten_6 (Flatten)             (None, 15)           0           embedding_8[0][0]                \n",
            "__________________________________________________________________________________________________\n",
            "flatten_7 (Flatten)             (None, 15)           0           embedding_9[0][0]                \n",
            "__________________________________________________________________________________________________\n",
            "flatten_8 (Flatten)             (None, 15)           0           embedding_10[0][0]               \n",
            "__________________________________________________________________________________________________\n",
            "flatten_9 (Flatten)             (None, 15)           0           embedding_11[0][0]               \n",
            "__________________________________________________________________________________________________\n",
            "gru_1 (GRU)                     (None, 32)           51264       embedding_6[0][0]                \n",
            "__________________________________________________________________________________________________\n",
            "concatenate_1 (Concatenate)     (None, 107)          0           flatten_5[0][0]                  \n",
            "                                                                 flatten_6[0][0]                  \n",
            "                                                                 flatten_7[0][0]                  \n",
            "                                                                 flatten_8[0][0]                  \n",
            "                                                                 flatten_9[0][0]                  \n",
            "                                                                 gru_1[0][0]                      \n",
            "__________________________________________________________________________________________________\n",
            "dense_4 (Dense)                 (None, 256)          27648       concatenate_1[0][0]              \n",
            "__________________________________________________________________________________________________\n",
            "dropout_3 (Dropout)             (None, 256)          0           dense_4[0][0]                    \n",
            "__________________________________________________________________________________________________\n",
            "dense_5 (Dense)                 (None, 128)          32896       dropout_3[0][0]                  \n",
            "__________________________________________________________________________________________________\n",
            "dropout_4 (Dropout)             (None, 128)          0           dense_5[0][0]                    \n",
            "__________________________________________________________________________________________________\n",
            "dense_6 (Dense)                 (None, 64)           8256        dropout_4[0][0]                  \n",
            "__________________________________________________________________________________________________\n",
            "dropout_5 (Dropout)             (None, 64)           0           dense_6[0][0]                    \n",
            "__________________________________________________________________________________________________\n",
            "dense_7 (Dense)                 (None, 1)            65          dropout_5[0][0]                  \n",
            "==================================================================================================\n",
            "Total params: 5,484,339\n",
            "Trainable params: 5,484,339\n",
            "Non-trainable params: 0\n",
            "__________________________________________________________________________________________________\n"
          ],
          "name": "stdout"
        }
      ]
    },
    {
      "cell_type": "code",
      "metadata": {
        "id": "C2G9RNQWmHe9",
        "colab_type": "code",
        "colab": {
          "base_uri": "https://localhost:8080/",
          "height": 541
        },
        "outputId": "d7f9246a-e656-4115-8a38-43181e9401b4"
      },
      "source": [
        "# Set hyper parameters for the model.\n",
        "BATCH_SIZE = 16\n",
        "epochs = 15\n",
        "\n",
        "model.fit(X_train, dtrain.target, epochs=epochs, batch_size=BATCH_SIZE\n",
        "          , validation_data=(X_valid, dvalid.target)\n",
        "          , verbose=1)"
      ],
      "execution_count": 19,
      "outputs": [
        {
          "output_type": "stream",
          "text": [
            "Epoch 1/15\n",
            "606/606 [==============================] - 45s 75ms/step - loss: 0.0295 - mae: 0.1291 - rmsle_cust: 0.0111 - val_loss: 0.0211 - val_mae: 0.1052 - val_rmsle_cust: 0.0124\n",
            "Epoch 2/15\n",
            "606/606 [==============================] - 45s 74ms/step - loss: 0.0153 - mae: 0.0901 - rmsle_cust: 0.0105 - val_loss: 0.0181 - val_mae: 0.0962 - val_rmsle_cust: 0.0125\n",
            "Epoch 3/15\n",
            "606/606 [==============================] - 45s 74ms/step - loss: 0.0109 - mae: 0.0765 - rmsle_cust: 0.0089 - val_loss: 0.0231 - val_mae: 0.1101 - val_rmsle_cust: 0.0130\n",
            "Epoch 4/15\n",
            "606/606 [==============================] - 45s 74ms/step - loss: 0.0087 - mae: 0.0687 - rmsle_cust: 0.0078 - val_loss: 0.0176 - val_mae: 0.0932 - val_rmsle_cust: 0.0114\n",
            "Epoch 5/15\n",
            "606/606 [==============================] - 45s 74ms/step - loss: 0.0070 - mae: 0.0618 - rmsle_cust: 0.0071 - val_loss: 0.0191 - val_mae: 0.0974 - val_rmsle_cust: 0.0117\n",
            "Epoch 6/15\n",
            "606/606 [==============================] - 45s 74ms/step - loss: 0.0061 - mae: 0.0581 - rmsle_cust: 0.0064 - val_loss: 0.0175 - val_mae: 0.0901 - val_rmsle_cust: 0.0125\n",
            "Epoch 7/15\n",
            "606/606 [==============================] - 44s 73ms/step - loss: 0.0050 - mae: 0.0527 - rmsle_cust: 0.0058 - val_loss: 0.0203 - val_mae: 0.0941 - val_rmsle_cust: 0.0120\n",
            "Epoch 8/15\n",
            "606/606 [==============================] - 45s 74ms/step - loss: 0.0044 - mae: 0.0497 - rmsle_cust: 0.0053 - val_loss: 0.0174 - val_mae: 0.0878 - val_rmsle_cust: 0.0109\n",
            "Epoch 9/15\n",
            "606/606 [==============================] - 45s 74ms/step - loss: 0.0040 - mae: 0.0475 - rmsle_cust: 0.0051 - val_loss: 0.0232 - val_mae: 0.1091 - val_rmsle_cust: 0.0129\n",
            "Epoch 10/15\n",
            "606/606 [==============================] - 45s 74ms/step - loss: 0.0036 - mae: 0.0450 - rmsle_cust: 0.0047 - val_loss: 0.0187 - val_mae: 0.0906 - val_rmsle_cust: 0.0114\n",
            "Epoch 11/15\n",
            "606/606 [==============================] - 45s 74ms/step - loss: 0.0033 - mae: 0.0433 - rmsle_cust: 0.0046 - val_loss: 0.0174 - val_mae: 0.0860 - val_rmsle_cust: 0.0118\n",
            "Epoch 12/15\n",
            "606/606 [==============================] - 45s 74ms/step - loss: 0.0030 - mae: 0.0417 - rmsle_cust: 0.0045 - val_loss: 0.0196 - val_mae: 0.0966 - val_rmsle_cust: 0.0123\n",
            "Epoch 13/15\n",
            "606/606 [==============================] - 45s 74ms/step - loss: 0.0030 - mae: 0.0412 - rmsle_cust: 0.0045 - val_loss: 0.0175 - val_mae: 0.0878 - val_rmsle_cust: 0.0117\n",
            "Epoch 14/15\n",
            "606/606 [==============================] - 45s 74ms/step - loss: 0.0027 - mae: 0.0394 - rmsle_cust: 0.0044 - val_loss: 0.0175 - val_mae: 0.0881 - val_rmsle_cust: 0.0124\n",
            "Epoch 15/15\n",
            "606/606 [==============================] - 45s 74ms/step - loss: 0.0026 - mae: 0.0385 - rmsle_cust: 0.0043 - val_loss: 0.0180 - val_mae: 0.0889 - val_rmsle_cust: 0.0123\n"
          ],
          "name": "stdout"
        },
        {
          "output_type": "execute_result",
          "data": {
            "text/plain": [
              "<tensorflow.python.keras.callbacks.History at 0x7f87e434b898>"
            ]
          },
          "metadata": {
            "tags": []
          },
          "execution_count": 19
        }
      ]
    },
    {
      "cell_type": "code",
      "metadata": {
        "id": "TxOIg0YgmnXc",
        "colab_type": "code",
        "colab": {
          "base_uri": "https://localhost:8080/",
          "height": 33
        },
        "outputId": "f64ce9c7-c34f-43a5-faba-f2158b57bfc4"
      },
      "source": [
        "import math\n",
        "   \n",
        "val_preds = model.predict(X_valid)\n",
        "val_preds = target_scaler.inverse_transform(val_preds)\n",
        "val_preds = np.exp(val_preds)+1\n",
        "\n",
        "y_true = np.array(dvalid.quoted_amount.values)\n",
        "y_pred = val_preds[:,0]\n",
        "v_rmsle = rmsle(y_true, y_pred)\n",
        "print(\" RMSLE error on dev test: \"+str(v_rmsle))"
      ],
      "execution_count": 20,
      "outputs": [
        {
          "output_type": "stream",
          "text": [
            " RMSLE error on dev test: 0.5370413367519586\n"
          ],
          "name": "stdout"
        }
      ]
    },
    {
      "cell_type": "code",
      "metadata": {
        "id": "B2-_gWMDnTo_",
        "colab_type": "code",
        "colab": {
          "base_uri": "https://localhost:8080/",
          "height": 115
        },
        "outputId": "e9667374-0096-4a32-ba50-89e9bd94f495"
      },
      "source": [
        "#CREATE PREDICTIONS\n",
        "preds = model.predict(X_test, batch_size=BATCH_SIZE)\n",
        "preds = target_scaler.inverse_transform(preds)\n",
        "preds = np.exp(preds)-1\n",
        "\n",
        "prediksi = test[[\"enquiry_id\"]]\n",
        "prediksi[\"quoted_amount\"] = preds"
      ],
      "execution_count": 21,
      "outputs": [
        {
          "output_type": "stream",
          "text": [
            "/usr/local/lib/python3.6/dist-packages/ipykernel_launcher.py:7: SettingWithCopyWarning: \n",
            "A value is trying to be set on a copy of a slice from a DataFrame.\n",
            "Try using .loc[row_indexer,col_indexer] = value instead\n",
            "\n",
            "See the caveats in the documentation: https://pandas.pydata.org/pandas-docs/stable/user_guide/indexing.html#returning-a-view-versus-a-copy\n",
            "  import sys\n"
          ],
          "name": "stderr"
        }
      ]
    },
    {
      "cell_type": "code",
      "metadata": {
        "id": "lj89MoWjnj6q",
        "colab_type": "code",
        "colab": {}
      },
      "source": [
        "prediksi.to_excel(\"/content/drive/My Drive/prediksi.xls\", index=False)\n",
        "#prediksi.quoted_amount.hist()"
      ],
      "execution_count": 22,
      "outputs": []
    },
    {
      "cell_type": "code",
      "metadata": {
        "id": "5rvzOrgQnw3m",
        "colab_type": "code",
        "colab": {}
      },
      "source": [
        "t = pd.read_excel(\"/content/drive/My Drive/prediksi.xls\")"
      ],
      "execution_count": 23,
      "outputs": []
    },
    {
      "cell_type": "code",
      "metadata": {
        "id": "fnJE0kKKn663",
        "colab_type": "code",
        "colab": {}
      },
      "source": [
        "new_df = pd.merge(test, t, on='enquiry_id', how='outer')"
      ],
      "execution_count": 24,
      "outputs": []
    },
    {
      "cell_type": "code",
      "metadata": {
        "id": "2Oxhxu2ioCSm",
        "colab_type": "code",
        "colab": {
          "base_uri": "https://localhost:8080/",
          "height": 530
        },
        "outputId": "1754fa95-9074-44b5-a7cc-220e4f558e6f"
      },
      "source": [
        "df_pred = new_df[['enquiry_id', 'enquiry_date', 'quoted_amount_x', 'quoted_amount_y']]\n",
        "df_pred['quoted_amount_x'] = df_pred['quoted_amount_x'].astype(int)\n",
        "df_pred['quoted_amount_y'] = df_pred['quoted_amount_y'].astype(int)\n",
        "df_pred.head(10)"
      ],
      "execution_count": 25,
      "outputs": [
        {
          "output_type": "stream",
          "text": [
            "/usr/local/lib/python3.6/dist-packages/ipykernel_launcher.py:2: SettingWithCopyWarning: \n",
            "A value is trying to be set on a copy of a slice from a DataFrame.\n",
            "Try using .loc[row_indexer,col_indexer] = value instead\n",
            "\n",
            "See the caveats in the documentation: https://pandas.pydata.org/pandas-docs/stable/user_guide/indexing.html#returning-a-view-versus-a-copy\n",
            "  \n",
            "/usr/local/lib/python3.6/dist-packages/ipykernel_launcher.py:3: SettingWithCopyWarning: \n",
            "A value is trying to be set on a copy of a slice from a DataFrame.\n",
            "Try using .loc[row_indexer,col_indexer] = value instead\n",
            "\n",
            "See the caveats in the documentation: https://pandas.pydata.org/pandas-docs/stable/user_guide/indexing.html#returning-a-view-versus-a-copy\n",
            "  This is separate from the ipykernel package so we can avoid doing imports until\n"
          ],
          "name": "stderr"
        },
        {
          "output_type": "execute_result",
          "data": {
            "text/html": [
              "<div>\n",
              "<style scoped>\n",
              "    .dataframe tbody tr th:only-of-type {\n",
              "        vertical-align: middle;\n",
              "    }\n",
              "\n",
              "    .dataframe tbody tr th {\n",
              "        vertical-align: top;\n",
              "    }\n",
              "\n",
              "    .dataframe thead th {\n",
              "        text-align: right;\n",
              "    }\n",
              "</style>\n",
              "<table border=\"1\" class=\"dataframe\">\n",
              "  <thead>\n",
              "    <tr style=\"text-align: right;\">\n",
              "      <th></th>\n",
              "      <th>enquiry_id</th>\n",
              "      <th>enquiry_date</th>\n",
              "      <th>quoted_amount_x</th>\n",
              "      <th>quoted_amount_y</th>\n",
              "    </tr>\n",
              "  </thead>\n",
              "  <tbody>\n",
              "    <tr>\n",
              "      <th>0</th>\n",
              "      <td>27763</td>\n",
              "      <td>2018-08-02</td>\n",
              "      <td>110</td>\n",
              "      <td>86</td>\n",
              "    </tr>\n",
              "    <tr>\n",
              "      <th>1</th>\n",
              "      <td>27770</td>\n",
              "      <td>2018-08-03</td>\n",
              "      <td>1500</td>\n",
              "      <td>1577</td>\n",
              "    </tr>\n",
              "    <tr>\n",
              "      <th>2</th>\n",
              "      <td>27778</td>\n",
              "      <td>2018-08-03</td>\n",
              "      <td>80</td>\n",
              "      <td>88</td>\n",
              "    </tr>\n",
              "    <tr>\n",
              "      <th>3</th>\n",
              "      <td>27784</td>\n",
              "      <td>2018-08-03</td>\n",
              "      <td>220</td>\n",
              "      <td>192</td>\n",
              "    </tr>\n",
              "    <tr>\n",
              "      <th>4</th>\n",
              "      <td>27791</td>\n",
              "      <td>2018-08-04</td>\n",
              "      <td>300</td>\n",
              "      <td>103</td>\n",
              "    </tr>\n",
              "    <tr>\n",
              "      <th>5</th>\n",
              "      <td>27801</td>\n",
              "      <td>2018-08-04</td>\n",
              "      <td>80</td>\n",
              "      <td>75</td>\n",
              "    </tr>\n",
              "    <tr>\n",
              "      <th>6</th>\n",
              "      <td>27803</td>\n",
              "      <td>2018-08-05</td>\n",
              "      <td>80</td>\n",
              "      <td>98</td>\n",
              "    </tr>\n",
              "    <tr>\n",
              "      <th>7</th>\n",
              "      <td>27838</td>\n",
              "      <td>2018-08-06</td>\n",
              "      <td>90</td>\n",
              "      <td>83</td>\n",
              "    </tr>\n",
              "    <tr>\n",
              "      <th>8</th>\n",
              "      <td>27857</td>\n",
              "      <td>2018-08-07</td>\n",
              "      <td>270</td>\n",
              "      <td>185</td>\n",
              "    </tr>\n",
              "    <tr>\n",
              "      <th>9</th>\n",
              "      <td>27865</td>\n",
              "      <td>2018-08-08</td>\n",
              "      <td>80</td>\n",
              "      <td>95</td>\n",
              "    </tr>\n",
              "  </tbody>\n",
              "</table>\n",
              "</div>"
            ],
            "text/plain": [
              "   enquiry_id enquiry_date  quoted_amount_x  quoted_amount_y\n",
              "0       27763   2018-08-02              110               86\n",
              "1       27770   2018-08-03             1500             1577\n",
              "2       27778   2018-08-03               80               88\n",
              "3       27784   2018-08-03              220              192\n",
              "4       27791   2018-08-04              300              103\n",
              "5       27801   2018-08-04               80               75\n",
              "6       27803   2018-08-05               80               98\n",
              "7       27838   2018-08-06               90               83\n",
              "8       27857   2018-08-07              270              185\n",
              "9       27865   2018-08-08               80               95"
            ]
          },
          "metadata": {
            "tags": []
          },
          "execution_count": 25
        }
      ]
    },
    {
      "cell_type": "code",
      "metadata": {
        "id": "C3ZDqvgHozWh",
        "colab_type": "code",
        "colab": {
          "base_uri": "https://localhost:8080/",
          "height": 33
        },
        "outputId": "a7f75501-ccc8-4516-eae0-c0e365481256"
      },
      "source": [
        "total_x = df_pred.quoted_amount_x.sum()\n",
        "print('Total actual : ', total_x)"
      ],
      "execution_count": 26,
      "outputs": [
        {
          "output_type": "stream",
          "text": [
            "Total actual :  261074\n"
          ],
          "name": "stdout"
        }
      ]
    },
    {
      "cell_type": "code",
      "metadata": {
        "id": "zp9wtzfOo-9D",
        "colab_type": "code",
        "colab": {
          "base_uri": "https://localhost:8080/",
          "height": 33
        },
        "outputId": "1ee61c4e-c018-43c7-9c81-fb3da10681bf"
      },
      "source": [
        "total_y = df_pred.quoted_amount_y.sum()\n",
        "print('Total prediction : ', total_y)"
      ],
      "execution_count": 27,
      "outputs": [
        {
          "output_type": "stream",
          "text": [
            "Total prediction :  237547\n"
          ],
          "name": "stdout"
        }
      ]
    },
    {
      "cell_type": "code",
      "metadata": {
        "id": "bIjSvo004_UH",
        "colab_type": "code",
        "colab": {
          "base_uri": "https://localhost:8080/",
          "height": 501
        },
        "outputId": "bb011756-e748-4fce-8d6b-c096e84d7590"
      },
      "source": [
        "df_pred['quoted_amount_y'] = np.around(df_pred.quoted_amount_y/5, decimals=0)*5\n",
        "df_pred['quoted_amount_y'] = df_pred['quoted_amount_y'].astype(int)\n",
        "df_pred.head(9)"
      ],
      "execution_count": 29,
      "outputs": [
        {
          "output_type": "stream",
          "text": [
            "/usr/local/lib/python3.6/dist-packages/ipykernel_launcher.py:1: SettingWithCopyWarning: \n",
            "A value is trying to be set on a copy of a slice from a DataFrame.\n",
            "Try using .loc[row_indexer,col_indexer] = value instead\n",
            "\n",
            "See the caveats in the documentation: https://pandas.pydata.org/pandas-docs/stable/user_guide/indexing.html#returning-a-view-versus-a-copy\n",
            "  \"\"\"Entry point for launching an IPython kernel.\n",
            "/usr/local/lib/python3.6/dist-packages/ipykernel_launcher.py:2: SettingWithCopyWarning: \n",
            "A value is trying to be set on a copy of a slice from a DataFrame.\n",
            "Try using .loc[row_indexer,col_indexer] = value instead\n",
            "\n",
            "See the caveats in the documentation: https://pandas.pydata.org/pandas-docs/stable/user_guide/indexing.html#returning-a-view-versus-a-copy\n",
            "  \n"
          ],
          "name": "stderr"
        },
        {
          "output_type": "execute_result",
          "data": {
            "text/html": [
              "<div>\n",
              "<style scoped>\n",
              "    .dataframe tbody tr th:only-of-type {\n",
              "        vertical-align: middle;\n",
              "    }\n",
              "\n",
              "    .dataframe tbody tr th {\n",
              "        vertical-align: top;\n",
              "    }\n",
              "\n",
              "    .dataframe thead th {\n",
              "        text-align: right;\n",
              "    }\n",
              "</style>\n",
              "<table border=\"1\" class=\"dataframe\">\n",
              "  <thead>\n",
              "    <tr style=\"text-align: right;\">\n",
              "      <th></th>\n",
              "      <th>enquiry_id</th>\n",
              "      <th>enquiry_date</th>\n",
              "      <th>quoted_amount_x</th>\n",
              "      <th>quoted_amount_y</th>\n",
              "    </tr>\n",
              "  </thead>\n",
              "  <tbody>\n",
              "    <tr>\n",
              "      <th>0</th>\n",
              "      <td>27763</td>\n",
              "      <td>2018-08-02</td>\n",
              "      <td>110</td>\n",
              "      <td>85</td>\n",
              "    </tr>\n",
              "    <tr>\n",
              "      <th>1</th>\n",
              "      <td>27770</td>\n",
              "      <td>2018-08-03</td>\n",
              "      <td>1500</td>\n",
              "      <td>1575</td>\n",
              "    </tr>\n",
              "    <tr>\n",
              "      <th>2</th>\n",
              "      <td>27778</td>\n",
              "      <td>2018-08-03</td>\n",
              "      <td>80</td>\n",
              "      <td>90</td>\n",
              "    </tr>\n",
              "    <tr>\n",
              "      <th>3</th>\n",
              "      <td>27784</td>\n",
              "      <td>2018-08-03</td>\n",
              "      <td>220</td>\n",
              "      <td>190</td>\n",
              "    </tr>\n",
              "    <tr>\n",
              "      <th>4</th>\n",
              "      <td>27791</td>\n",
              "      <td>2018-08-04</td>\n",
              "      <td>300</td>\n",
              "      <td>105</td>\n",
              "    </tr>\n",
              "    <tr>\n",
              "      <th>5</th>\n",
              "      <td>27801</td>\n",
              "      <td>2018-08-04</td>\n",
              "      <td>80</td>\n",
              "      <td>75</td>\n",
              "    </tr>\n",
              "    <tr>\n",
              "      <th>6</th>\n",
              "      <td>27803</td>\n",
              "      <td>2018-08-05</td>\n",
              "      <td>80</td>\n",
              "      <td>100</td>\n",
              "    </tr>\n",
              "    <tr>\n",
              "      <th>7</th>\n",
              "      <td>27838</td>\n",
              "      <td>2018-08-06</td>\n",
              "      <td>90</td>\n",
              "      <td>85</td>\n",
              "    </tr>\n",
              "    <tr>\n",
              "      <th>8</th>\n",
              "      <td>27857</td>\n",
              "      <td>2018-08-07</td>\n",
              "      <td>270</td>\n",
              "      <td>185</td>\n",
              "    </tr>\n",
              "  </tbody>\n",
              "</table>\n",
              "</div>"
            ],
            "text/plain": [
              "   enquiry_id enquiry_date  quoted_amount_x  quoted_amount_y\n",
              "0       27763   2018-08-02              110               85\n",
              "1       27770   2018-08-03             1500             1575\n",
              "2       27778   2018-08-03               80               90\n",
              "3       27784   2018-08-03              220              190\n",
              "4       27791   2018-08-04              300              105\n",
              "5       27801   2018-08-04               80               75\n",
              "6       27803   2018-08-05               80              100\n",
              "7       27838   2018-08-06               90               85\n",
              "8       27857   2018-08-07              270              185"
            ]
          },
          "metadata": {
            "tags": []
          },
          "execution_count": 29
        }
      ]
    },
    {
      "cell_type": "code",
      "metadata": {
        "id": "5ayBZefK4_wc",
        "colab_type": "code",
        "colab": {
          "base_uri": "https://localhost:8080/",
          "height": 33
        },
        "outputId": "101387f3-e806-4c16-f94c-c7e8bef1231d"
      },
      "source": [
        "df_pred.quoted_amount_x.sum()"
      ],
      "execution_count": 30,
      "outputs": [
        {
          "output_type": "execute_result",
          "data": {
            "text/plain": [
              "261074"
            ]
          },
          "metadata": {
            "tags": []
          },
          "execution_count": 30
        }
      ]
    },
    {
      "cell_type": "code",
      "metadata": {
        "id": "EGY895pr4_GO",
        "colab_type": "code",
        "colab": {
          "base_uri": "https://localhost:8080/",
          "height": 33
        },
        "outputId": "7af553ae-1b12-4537-caa3-e65a1a095f9a"
      },
      "source": [
        "df_pred.quoted_amount_y.sum()"
      ],
      "execution_count": 31,
      "outputs": [
        {
          "output_type": "execute_result",
          "data": {
            "text/plain": [
              "237655"
            ]
          },
          "metadata": {
            "tags": []
          },
          "execution_count": 31
        }
      ]
    },
    {
      "cell_type": "code",
      "metadata": {
        "id": "rS82KMLuoMuX",
        "colab_type": "code",
        "colab": {
          "base_uri": "https://localhost:8080/",
          "height": 393
        },
        "outputId": "24ec0041-d559-4d31-f784-493865ab53ea"
      },
      "source": [
        "import matplotlib.pyplot as plt\n",
        "plt.style.use('fivethirtyeight')\n",
        "fig = plt.figure(figsize=(25,7))\n",
        "plt.plot(df_pred.index, df_pred['quoted_amount_x'], label='actual')\n",
        "plt.plot(df_pred.index, df_pred['quoted_amount_y'], label='prediction')\n",
        "plt.legend(loc='best')\n",
        "plt.xlabel('enquiry id')\n",
        "plt.ylabel('price')\n",
        "plt.title('''Forecasts with actual and predictions''')\n",
        "plt.show()"
      ],
      "execution_count": 32,
      "outputs": [
        {
          "output_type": "display_data",
          "data": {
            "image/png": "[encoded data removed]",
            "text/plain": [
              "<Figure size 1800x504 with 1 Axes>"
            ]
          },
          "metadata": {
            "tags": []
          }
        }
      ]
    },
    {
      "cell_type": "code",
      "metadata": {
        "id": "6pZzFr48sfEQ",
        "colab_type": "code",
        "colab": {
          "base_uri": "https://localhost:8080/",
          "height": 938
        },
        "outputId": "f77561ae-972c-4e1d-c5ed-6efe85145571"
      },
      "source": [
        "thirty = df_pred.head(31)\n",
        "thirty"
      ],
      "execution_count": 33,
      "outputs": [
        {
          "output_type": "execute_result",
          "data": {
            "text/html": [
              "<div>\n",
              "<style scoped>\n",
              "    .dataframe tbody tr th:only-of-type {\n",
              "        vertical-align: middle;\n",
              "    }\n",
              "\n",
              "    .dataframe tbody tr th {\n",
              "        vertical-align: top;\n",
              "    }\n",
              "\n",
              "    .dataframe thead th {\n",
              "        text-align: right;\n",
              "    }\n",
              "</style>\n",
              "<table border=\"1\" class=\"dataframe\">\n",
              "  <thead>\n",
              "    <tr style=\"text-align: right;\">\n",
              "      <th></th>\n",
              "      <th>enquiry_id</th>\n",
              "      <th>enquiry_date</th>\n",
              "      <th>quoted_amount_x</th>\n",
              "      <th>quoted_amount_y</th>\n",
              "    </tr>\n",
              "  </thead>\n",
              "  <tbody>\n",
              "    <tr>\n",
              "      <th>0</th>\n",
              "      <td>27763</td>\n",
              "      <td>2018-08-02</td>\n",
              "      <td>110</td>\n",
              "      <td>85</td>\n",
              "    </tr>\n",
              "    <tr>\n",
              "      <th>1</th>\n",
              "      <td>27770</td>\n",
              "      <td>2018-08-03</td>\n",
              "      <td>1500</td>\n",
              "      <td>1575</td>\n",
              "    </tr>\n",
              "    <tr>\n",
              "      <th>2</th>\n",
              "      <td>27778</td>\n",
              "      <td>2018-08-03</td>\n",
              "      <td>80</td>\n",
              "      <td>90</td>\n",
              "    </tr>\n",
              "    <tr>\n",
              "      <th>3</th>\n",
              "      <td>27784</td>\n",
              "      <td>2018-08-03</td>\n",
              "      <td>220</td>\n",
              "      <td>190</td>\n",
              "    </tr>\n",
              "    <tr>\n",
              "      <th>4</th>\n",
              "      <td>27791</td>\n",
              "      <td>2018-08-04</td>\n",
              "      <td>300</td>\n",
              "      <td>105</td>\n",
              "    </tr>\n",
              "    <tr>\n",
              "      <th>5</th>\n",
              "      <td>27801</td>\n",
              "      <td>2018-08-04</td>\n",
              "      <td>80</td>\n",
              "      <td>75</td>\n",
              "    </tr>\n",
              "    <tr>\n",
              "      <th>6</th>\n",
              "      <td>27803</td>\n",
              "      <td>2018-08-05</td>\n",
              "      <td>80</td>\n",
              "      <td>100</td>\n",
              "    </tr>\n",
              "    <tr>\n",
              "      <th>7</th>\n",
              "      <td>27838</td>\n",
              "      <td>2018-08-06</td>\n",
              "      <td>90</td>\n",
              "      <td>85</td>\n",
              "    </tr>\n",
              "    <tr>\n",
              "      <th>8</th>\n",
              "      <td>27857</td>\n",
              "      <td>2018-08-07</td>\n",
              "      <td>270</td>\n",
              "      <td>185</td>\n",
              "    </tr>\n",
              "    <tr>\n",
              "      <th>9</th>\n",
              "      <td>27865</td>\n",
              "      <td>2018-08-08</td>\n",
              "      <td>80</td>\n",
              "      <td>95</td>\n",
              "    </tr>\n",
              "    <tr>\n",
              "      <th>10</th>\n",
              "      <td>27867</td>\n",
              "      <td>2018-08-08</td>\n",
              "      <td>340</td>\n",
              "      <td>170</td>\n",
              "    </tr>\n",
              "    <tr>\n",
              "      <th>11</th>\n",
              "      <td>27883</td>\n",
              "      <td>2018-08-09</td>\n",
              "      <td>110</td>\n",
              "      <td>90</td>\n",
              "    </tr>\n",
              "    <tr>\n",
              "      <th>12</th>\n",
              "      <td>27887</td>\n",
              "      <td>2018-08-10</td>\n",
              "      <td>100</td>\n",
              "      <td>165</td>\n",
              "    </tr>\n",
              "    <tr>\n",
              "      <th>13</th>\n",
              "      <td>27888</td>\n",
              "      <td>2018-08-10</td>\n",
              "      <td>80</td>\n",
              "      <td>160</td>\n",
              "    </tr>\n",
              "    <tr>\n",
              "      <th>14</th>\n",
              "      <td>27890</td>\n",
              "      <td>2018-08-10</td>\n",
              "      <td>3000</td>\n",
              "      <td>1850</td>\n",
              "    </tr>\n",
              "    <tr>\n",
              "      <th>15</th>\n",
              "      <td>27950</td>\n",
              "      <td>2018-08-13</td>\n",
              "      <td>80</td>\n",
              "      <td>65</td>\n",
              "    </tr>\n",
              "    <tr>\n",
              "      <th>16</th>\n",
              "      <td>27972</td>\n",
              "      <td>2018-08-14</td>\n",
              "      <td>280</td>\n",
              "      <td>160</td>\n",
              "    </tr>\n",
              "    <tr>\n",
              "      <th>17</th>\n",
              "      <td>27977</td>\n",
              "      <td>2018-08-14</td>\n",
              "      <td>80</td>\n",
              "      <td>70</td>\n",
              "    </tr>\n",
              "    <tr>\n",
              "      <th>18</th>\n",
              "      <td>27995</td>\n",
              "      <td>2018-08-15</td>\n",
              "      <td>780</td>\n",
              "      <td>560</td>\n",
              "    </tr>\n",
              "    <tr>\n",
              "      <th>19</th>\n",
              "      <td>28000</td>\n",
              "      <td>2018-08-15</td>\n",
              "      <td>130</td>\n",
              "      <td>85</td>\n",
              "    </tr>\n",
              "    <tr>\n",
              "      <th>20</th>\n",
              "      <td>28006</td>\n",
              "      <td>2018-08-15</td>\n",
              "      <td>110</td>\n",
              "      <td>85</td>\n",
              "    </tr>\n",
              "    <tr>\n",
              "      <th>21</th>\n",
              "      <td>28021</td>\n",
              "      <td>2018-08-16</td>\n",
              "      <td>80</td>\n",
              "      <td>85</td>\n",
              "    </tr>\n",
              "    <tr>\n",
              "      <th>22</th>\n",
              "      <td>28029</td>\n",
              "      <td>2018-08-17</td>\n",
              "      <td>300</td>\n",
              "      <td>235</td>\n",
              "    </tr>\n",
              "    <tr>\n",
              "      <th>23</th>\n",
              "      <td>28046</td>\n",
              "      <td>2018-08-17</td>\n",
              "      <td>80</td>\n",
              "      <td>50</td>\n",
              "    </tr>\n",
              "    <tr>\n",
              "      <th>24</th>\n",
              "      <td>28048</td>\n",
              "      <td>2018-08-17</td>\n",
              "      <td>120</td>\n",
              "      <td>120</td>\n",
              "    </tr>\n",
              "    <tr>\n",
              "      <th>25</th>\n",
              "      <td>28052</td>\n",
              "      <td>2018-08-18</td>\n",
              "      <td>380</td>\n",
              "      <td>240</td>\n",
              "    </tr>\n",
              "    <tr>\n",
              "      <th>26</th>\n",
              "      <td>28077</td>\n",
              "      <td>2018-08-20</td>\n",
              "      <td>130</td>\n",
              "      <td>555</td>\n",
              "    </tr>\n",
              "    <tr>\n",
              "      <th>27</th>\n",
              "      <td>28083</td>\n",
              "      <td>2018-08-20</td>\n",
              "      <td>80</td>\n",
              "      <td>105</td>\n",
              "    </tr>\n",
              "    <tr>\n",
              "      <th>28</th>\n",
              "      <td>28096</td>\n",
              "      <td>2018-08-21</td>\n",
              "      <td>95</td>\n",
              "      <td>135</td>\n",
              "    </tr>\n",
              "    <tr>\n",
              "      <th>29</th>\n",
              "      <td>28104</td>\n",
              "      <td>2018-08-21</td>\n",
              "      <td>190</td>\n",
              "      <td>130</td>\n",
              "    </tr>\n",
              "    <tr>\n",
              "      <th>30</th>\n",
              "      <td>28124</td>\n",
              "      <td>2018-08-23</td>\n",
              "      <td>100</td>\n",
              "      <td>75</td>\n",
              "    </tr>\n",
              "  </tbody>\n",
              "</table>\n",
              "</div>"
            ],
            "text/plain": [
              "    enquiry_id enquiry_date  quoted_amount_x  quoted_amount_y\n",
              "0        27763   2018-08-02              110               85\n",
              "1        27770   2018-08-03             1500             1575\n",
              "2        27778   2018-08-03               80               90\n",
              "3        27784   2018-08-03              220              190\n",
              "4        27791   2018-08-04              300              105\n",
              "5        27801   2018-08-04               80               75\n",
              "6        27803   2018-08-05               80              100\n",
              "7        27838   2018-08-06               90               85\n",
              "8        27857   2018-08-07              270              185\n",
              "9        27865   2018-08-08               80               95\n",
              "10       27867   2018-08-08              340              170\n",
              "11       27883   2018-08-09              110               90\n",
              "12       27887   2018-08-10              100              165\n",
              "13       27888   2018-08-10               80              160\n",
              "14       27890   2018-08-10             3000             1850\n",
              "15       27950   2018-08-13               80               65\n",
              "16       27972   2018-08-14              280              160\n",
              "17       27977   2018-08-14               80               70\n",
              "18       27995   2018-08-15              780              560\n",
              "19       28000   2018-08-15              130               85\n",
              "20       28006   2018-08-15              110               85\n",
              "21       28021   2018-08-16               80               85\n",
              "22       28029   2018-08-17              300              235\n",
              "23       28046   2018-08-17               80               50\n",
              "24       28048   2018-08-17              120              120\n",
              "25       28052   2018-08-18              380              240\n",
              "26       28077   2018-08-20              130              555\n",
              "27       28083   2018-08-20               80              105\n",
              "28       28096   2018-08-21               95              135\n",
              "29       28104   2018-08-21              190              130\n",
              "30       28124   2018-08-23              100               75"
            ]
          },
          "metadata": {
            "tags": []
          },
          "execution_count": 33
        }
      ]
    },
    {
      "cell_type": "code",
      "metadata": {
        "id": "Wlghhju9s4Lm",
        "colab_type": "code",
        "colab": {
          "base_uri": "https://localhost:8080/",
          "height": 486
        },
        "outputId": "1700c45e-c2fa-4d1e-c7ad-4523424f2f0a"
      },
      "source": [
        "import matplotlib.pyplot as plt\n",
        "plt.style.use('fivethirtyeight')\n",
        "fig = plt.figure(figsize=(25,9))\n",
        "plt.plot(thirty.index, thirty['quoted_amount_x'], label='actual')\n",
        "plt.plot(thirty.index, thirty['quoted_amount_y'], label='prediction')\n",
        "plt.legend(loc='best')\n",
        "plt.xlabel('enquiry id')\n",
        "plt.ylabel('price')\n",
        "plt.title('''Forecasts with actual and predictions''')\n",
        "plt.show()"
      ],
      "execution_count": 34,
      "outputs": [
        {
          "output_type": "display_data",
          "data": {
            "image/png": "[encoded data removed]",
            "text/plain": [
              "<Figure size 1800x648 with 1 Axes>"
            ]
          },
          "metadata": {
            "tags": []
          }
        }
      ]
    },
    {
      "cell_type": "code",
      "metadata": {
        "id": "gLYTCEjZtOY9",
        "colab_type": "code",
        "colab": {
          "base_uri": "https://localhost:8080/",
          "height": 277
        },
        "outputId": "efcd9112-d640-47f1-c9bb-62e74b791c74"
      },
      "source": [
        "play = df_pred.loc[2:9]\n",
        "play"
      ],
      "execution_count": 35,
      "outputs": [
        {
          "output_type": "execute_result",
          "data": {
            "text/html": [
              "<div>\n",
              "<style scoped>\n",
              "    .dataframe tbody tr th:only-of-type {\n",
              "        vertical-align: middle;\n",
              "    }\n",
              "\n",
              "    .dataframe tbody tr th {\n",
              "        vertical-align: top;\n",
              "    }\n",
              "\n",
              "    .dataframe thead th {\n",
              "        text-align: right;\n",
              "    }\n",
              "</style>\n",
              "<table border=\"1\" class=\"dataframe\">\n",
              "  <thead>\n",
              "    <tr style=\"text-align: right;\">\n",
              "      <th></th>\n",
              "      <th>enquiry_id</th>\n",
              "      <th>enquiry_date</th>\n",
              "      <th>quoted_amount_x</th>\n",
              "      <th>quoted_amount_y</th>\n",
              "    </tr>\n",
              "  </thead>\n",
              "  <tbody>\n",
              "    <tr>\n",
              "      <th>2</th>\n",
              "      <td>27778</td>\n",
              "      <td>2018-08-03</td>\n",
              "      <td>80</td>\n",
              "      <td>90</td>\n",
              "    </tr>\n",
              "    <tr>\n",
              "      <th>3</th>\n",
              "      <td>27784</td>\n",
              "      <td>2018-08-03</td>\n",
              "      <td>220</td>\n",
              "      <td>190</td>\n",
              "    </tr>\n",
              "    <tr>\n",
              "      <th>4</th>\n",
              "      <td>27791</td>\n",
              "      <td>2018-08-04</td>\n",
              "      <td>300</td>\n",
              "      <td>105</td>\n",
              "    </tr>\n",
              "    <tr>\n",
              "      <th>5</th>\n",
              "      <td>27801</td>\n",
              "      <td>2018-08-04</td>\n",
              "      <td>80</td>\n",
              "      <td>75</td>\n",
              "    </tr>\n",
              "    <tr>\n",
              "      <th>6</th>\n",
              "      <td>27803</td>\n",
              "      <td>2018-08-05</td>\n",
              "      <td>80</td>\n",
              "      <td>100</td>\n",
              "    </tr>\n",
              "    <tr>\n",
              "      <th>7</th>\n",
              "      <td>27838</td>\n",
              "      <td>2018-08-06</td>\n",
              "      <td>90</td>\n",
              "      <td>85</td>\n",
              "    </tr>\n",
              "    <tr>\n",
              "      <th>8</th>\n",
              "      <td>27857</td>\n",
              "      <td>2018-08-07</td>\n",
              "      <td>270</td>\n",
              "      <td>185</td>\n",
              "    </tr>\n",
              "    <tr>\n",
              "      <th>9</th>\n",
              "      <td>27865</td>\n",
              "      <td>2018-08-08</td>\n",
              "      <td>80</td>\n",
              "      <td>95</td>\n",
              "    </tr>\n",
              "  </tbody>\n",
              "</table>\n",
              "</div>"
            ],
            "text/plain": [
              "   enquiry_id enquiry_date  quoted_amount_x  quoted_amount_y\n",
              "2       27778   2018-08-03               80               90\n",
              "3       27784   2018-08-03              220              190\n",
              "4       27791   2018-08-04              300              105\n",
              "5       27801   2018-08-04               80               75\n",
              "6       27803   2018-08-05               80              100\n",
              "7       27838   2018-08-06               90               85\n",
              "8       27857   2018-08-07              270              185\n",
              "9       27865   2018-08-08               80               95"
            ]
          },
          "metadata": {
            "tags": []
          },
          "execution_count": 35
        }
      ]
    },
    {
      "cell_type": "code",
      "metadata": {
        "id": "djIsXzShvGNs",
        "colab_type": "code",
        "colab": {
          "base_uri": "https://localhost:8080/",
          "height": 397
        },
        "outputId": "001d66ef-7b7d-41ef-d0fe-5b360cff9f5e"
      },
      "source": [
        "import matplotlib.pyplot as plt\n",
        "plt.style.use('fivethirtyeight')\n",
        "fig = plt.figure(figsize=(25,7))\n",
        "plt.plot(play.index, play['quoted_amount_x'], label='actual')\n",
        "plt.plot(play.index, play['quoted_amount_y'], label='prediction')\n",
        "plt.legend(loc='best')\n",
        "plt.xlabel('enquiry id')\n",
        "plt.ylabel('price')\n",
        "plt.title('''Forecasts with actual and predictions''')\n",
        "plt.show()"
      ],
      "execution_count": 36,
      "outputs": [
        {
          "output_type": "display_data",
          "data": {
            "image/png": "[encoded data removed]",
            "text/plain": [
              "<Figure size 1800x504 with 1 Axes>"
            ]
          },
          "metadata": {
            "tags": []
          }
        }
      ]
    },
    {
      "cell_type": "code",
      "metadata": {
        "id": "isgLf9eBF86_",
        "colab_type": "code",
        "colab": {
          "base_uri": "https://localhost:8080/",
          "height": 50
        },
        "outputId": "70eedd48-f6d7-443d-a7a2-c3a2bb2cf5fd"
      },
      "source": [
        "import tensorflow as tf\n",
        "import keras\n",
        "print(f\"TF version: {tf.__version__}, Keras version: {keras.__version__}\\n\")"
      ],
      "execution_count": 37,
      "outputs": [
        {
          "output_type": "stream",
          "text": [
            "TF version: 2.3.0, Keras version: 2.4.3\n",
            "\n"
          ],
          "name": "stdout"
        }
      ]
    },
    {
      "cell_type": "code",
      "metadata": {
        "id": "FwZwOjW2VcE1",
        "colab_type": "code",
        "colab": {}
      },
      "source": [
        "# create excel writer object\n",
        "# writer = pd.ExcelWriter('junktoclear_x_y.xls')\n",
        "# write dataframe to excel\n",
        "# new.to_excel(writer)\n",
        "# save the excel\n",
        "# writer.save()"
      ],
      "execution_count": 38,
      "outputs": []
    },
    {
      "cell_type": "code",
      "metadata": {
        "id": "cLESRdxOAWF_",
        "colab_type": "code",
        "colab": {}
      },
      "source": [
        ""
      ],
      "execution_count": null,
      "outputs": []
    }
  ]
}